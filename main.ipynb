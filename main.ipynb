{
 "cells": [
  {
   "cell_type": "markdown",
   "metadata": {},
   "source": [
    "# Importing necessary libraries"
   ]
  },
  {
   "cell_type": "code",
   "execution_count": 2,
   "metadata": {},
   "outputs": [],
   "source": [
    "import numpy as np \n",
    "import pandas as pd\n",
    "import seaborn as sns\n",
    "import matplotlib.pyplot as plt\n",
    "from sklearn.preprocessing import MinMaxScaler\n",
    "\n",
    "import analysis_functions as analysis"
   ]
  },
  {
   "cell_type": "markdown",
   "metadata": {},
   "source": [
    "# 1. Recommendation System with LSH"
   ]
  },
  {
   "cell_type": "markdown",
   "metadata": {},
   "source": [
    "## 1.1 Data Preparation"
   ]
  },
  {
   "cell_type": "markdown",
   "metadata": {},
   "source": [
    "### Main dataframe "
   ]
  },
  {
   "cell_type": "markdown",
   "metadata": {},
   "source": [
    "#### Loading"
   ]
  },
  {
   "cell_type": "code",
   "execution_count": 3,
   "metadata": {},
   "outputs": [],
   "source": [
    "# Load the dataset for ratings and the one for movies\n",
    "df_ratings = pd.read_csv(\"archive/rating.csv\")\n",
    "df_movies = pd.read_csv(\"archive/movie.csv\")\n",
    "\n",
    "# Creating main df for our analysis (for now)\n",
    "main_df = pd.merge(df_ratings, df_movies, on=\"movieId\")"
   ]
  },
  {
   "cell_type": "markdown",
   "metadata": {},
   "source": [
    "#### Analysis"
   ]
  },
  {
   "cell_type": "code",
   "execution_count": null,
   "metadata": {},
   "outputs": [
    {
     "data": {
      "text/plain": [
       "(20000263, 6)"
      ]
     },
     "execution_count": 4,
     "metadata": {},
     "output_type": "execute_result"
    }
   ],
   "source": [
    "# view shape of df\n",
    "analysis.find_shape(main_df)"
   ]
  },
  {
   "cell_type": "code",
   "execution_count": 4,
   "metadata": {},
   "outputs": [
    {
     "name": "stdout",
     "output_type": "stream",
     "text": [
      "<class 'pandas.core.frame.DataFrame'>\n",
      "RangeIndex: 20000263 entries, 0 to 20000262\n",
      "Data columns (total 6 columns):\n",
      " #   Column     Dtype  \n",
      "---  ------     -----  \n",
      " 0   userId     int64  \n",
      " 1   movieId    int64  \n",
      " 2   rating     float64\n",
      " 3   timestamp  object \n",
      " 4   title      object \n",
      " 5   genres     object \n",
      "dtypes: float64(1), int64(2), object(3)\n",
      "memory usage: 915.5+ MB\n"
     ]
    }
   ],
   "source": [
    " # check columns info and dtypes...\n",
    "analysis.find_info(main_df)"
   ]
  },
  {
   "cell_type": "code",
   "execution_count": null,
   "metadata": {},
   "outputs": [
    {
     "data": {
      "text/plain": [
       "(             userId       movieId        rating\n",
       " count  2.000026e+07  2.000026e+07  2.000026e+07\n",
       " mean   6.904587e+04  9.041567e+03  3.525529e+00\n",
       " std    4.003863e+04  1.978948e+04  1.051989e+00\n",
       " min    1.000000e+00  1.000000e+00  5.000000e-01\n",
       " 25%    3.439500e+04  9.020000e+02  3.000000e+00\n",
       " 50%    6.914100e+04  2.167000e+03  3.500000e+00\n",
       " 75%    1.036370e+05  4.770000e+03  4.000000e+00\n",
       " max    1.384930e+05  1.312620e+05  5.000000e+00,\n",
       "                   timestamp                title    genres\n",
       " count              20000263             20000263  20000263\n",
       " unique             15351121                26729      1329\n",
       " top     1996-03-01 00:00:00  Pulp Fiction (1994)     Drama\n",
       " freq                    643                67310   1467402)"
      ]
     },
     "execution_count": 5,
     "metadata": {},
     "output_type": "execute_result"
    }
   ],
   "source": [
    "# calculate statistical summary for numerical columns and summary for non numeric columns\n",
    "analysis.find_desc(main_df)"
   ]
  },
  {
   "cell_type": "code",
   "execution_count": null,
   "metadata": {},
   "outputs": [
    {
     "data": {
      "text/plain": [
       "userId       0\n",
       "movieId      0\n",
       "rating       0\n",
       "timestamp    0\n",
       "title        0\n",
       "genres       0\n",
       "dtype: int64"
      ]
     },
     "execution_count": 96,
     "metadata": {},
     "output_type": "execute_result"
    }
   ],
   "source": [
    "# check df for null values\n",
    "analysis.find_null_vals(main_df)"
   ]
  },
  {
   "cell_type": "code",
   "execution_count": 6,
   "metadata": {},
   "outputs": [
    {
     "data": {
      "text/plain": [
       "0"
      ]
     },
     "execution_count": 6,
     "metadata": {},
     "output_type": "execute_result"
    }
   ],
   "source": [
    "# check df for duplicated rows\n",
    "analysis.find_dup(main_df)"
   ]
  },
  {
   "cell_type": "code",
   "execution_count": 7,
   "metadata": {},
   "outputs": [
    {
     "name": "stdout",
     "output_type": "stream",
     "text": [
      "Number of unique users: 138493\n",
      "Number of unique movies: 26744\n"
     ]
    }
   ],
   "source": [
    "# Check the number of unique users and movies\n",
    "print(f\"Number of unique users: {main_df['userId'].nunique()}\")\n",
    "print(f\"Number of unique movies: {main_df['movieId'].nunique()}\")\n"
   ]
  },
  {
   "cell_type": "code",
   "execution_count": 75,
   "metadata": {},
   "outputs": [
    {
     "data": {
      "image/png": "[encoded data removed]",
      "text/plain": [
       "<Figure size 640x480 with 1 Axes>"
      ]
     },
     "metadata": {},
     "output_type": "display_data"
    }
   ],
   "source": [
    "# check for outliers\n",
    "sns.boxplot(x=main_df['rating'])\n",
    "plt.title('Boxplot of Ratings')\n",
    "plt.show()\n",
    "\n",
    "# values around 1 are considered outliers, because probably not a lot of movies have a low rating\n"
   ]
  },
  {
   "cell_type": "code",
   "execution_count": 87,
   "metadata": {},
   "outputs": [
    {
     "data": {
      "image/png": "[encoded data removed]",
      "text/plain": [
       "<Figure size 800x600 with 1 Axes>"
      ]
     },
     "metadata": {},
     "output_type": "display_data"
    }
   ],
   "source": [
    "# Histogram to visualise the frequency of each rating score \n",
    "main_df['rating'].hist(bins=20, figsize=(8, 6))\n",
    "plt.title('Distribution of Ratings')\n",
    "plt.xlabel('Rating')\n",
    "plt.ylabel('Frequency')\n",
    "plt.show()"
   ]
  },
  {
   "cell_type": "code",
   "execution_count": null,
   "metadata": {},
   "outputs": [
    {
     "data": {
      "text/plain": [
       "0.5"
      ]
     },
     "execution_count": 88,
     "metadata": {},
     "output_type": "execute_result"
    }
   ],
   "source": [
    "# understand what is the lowest rating given \n",
    "main_df['rating'].min()"
   ]
  },
  {
   "cell_type": "code",
   "execution_count": 77,
   "metadata": {},
   "outputs": [
    {
     "name": "stdout",
     "output_type": "stream",
     "text": [
      "userId\n",
      "118205    9254\n",
      "8405      7515\n",
      "82418     5646\n",
      "121535    5520\n",
      "125794    5491\n",
      "          ... \n",
      "89305       20\n",
      "110463      20\n",
      "96990       20\n",
      "134747      20\n",
      "6526        20\n",
      "Name: count, Length: 138493, dtype: int64\n",
      "movieId\n",
      "296       67310\n",
      "356       66172\n",
      "318       63366\n",
      "593       63299\n",
      "480       59715\n",
      "          ...  \n",
      "125545        1\n",
      "78873         1\n",
      "112907        1\n",
      "112909        1\n",
      "110510        1\n",
      "Name: count, Length: 26744, dtype: int64\n"
     ]
    }
   ],
   "source": [
    "# Check user activity (number of ratings per user)\n",
    "user_activity = main_df['userId'].value_counts()\n",
    "print(user_activity)\n",
    "\n",
    "# Check movie popularity (number of ratings per movie)\n",
    "movie_popularity = main_df['movieId'].value_counts()\n",
    "print(movie_popularity)\n"
   ]
  },
  {
   "cell_type": "code",
   "execution_count": null,
   "metadata": {},
   "outputs": [
    {
     "data": {
      "image/png": "[encoded data removed]",
      "text/plain": [
       "<Figure size 640x480 with 1 Axes>"
      ]
     },
     "metadata": {},
     "output_type": "display_data"
    },
    {
     "data": {
      "image/png": "[encoded data removed]",
      "text/plain": [
       "<Figure size 640x480 with 1 Axes>"
      ]
     },
     "metadata": {},
     "output_type": "display_data"
    }
   ],
   "source": [
    "# User activity visualised on graph\n",
    "sns.histplot(user_activity, bins=300, kde=False)\n",
    "plt.title('Number of Ratings per User')\n",
    "plt.xlabel('Ratings')\n",
    "plt.ylabel('Number of Users')\n",
    "plt.xlim(0, 1500)\n",
    "plt.show()\n",
    "\n",
    "# Movie popularity visualised on graph\n",
    "sns.histplot(movie_popularity, bins=500, kde=False)\n",
    "plt.title('Number of Ratings per Movie')\n",
    "plt.xlabel('Ratings')\n",
    "plt.ylabel('Number of Movies')\n",
    "plt.xlim(0, 6000)\n",
    "plt.ylim(0, 500)\n",
    "plt.show()"
   ]
  },
  {
   "cell_type": "code",
   "execution_count": 10,
   "metadata": {},
   "outputs": [
    {
     "data": {
      "text/html": [
       "<div>\n",
       "<style scoped>\n",
       "    .dataframe tbody tr th:only-of-type {\n",
       "        vertical-align: middle;\n",
       "    }\n",
       "\n",
       "    .dataframe tbody tr th {\n",
       "        vertical-align: top;\n",
       "    }\n",
       "\n",
       "    .dataframe thead th {\n",
       "        text-align: right;\n",
       "    }\n",
       "</style>\n",
       "<table border=\"1\" class=\"dataframe\">\n",
       "  <thead>\n",
       "    <tr style=\"text-align: right;\">\n",
       "      <th></th>\n",
       "      <th>userId</th>\n",
       "      <th>movieId</th>\n",
       "      <th>rating</th>\n",
       "      <th>timestamp</th>\n",
       "      <th>title</th>\n",
       "      <th>genres</th>\n",
       "    </tr>\n",
       "  </thead>\n",
       "  <tbody>\n",
       "    <tr>\n",
       "      <th>1</th>\n",
       "      <td>1</td>\n",
       "      <td>29</td>\n",
       "      <td>3.5</td>\n",
       "      <td>2005-04-02 23:31:16</td>\n",
       "      <td>City of Lost Children, The (Cité des enfants p...</td>\n",
       "      <td>Adventure|Drama|Fantasy|Mystery|Sci-Fi</td>\n",
       "    </tr>\n",
       "    <tr>\n",
       "      <th>6</th>\n",
       "      <td>1</td>\n",
       "      <td>151</td>\n",
       "      <td>4.0</td>\n",
       "      <td>2004-09-10 03:08:54</td>\n",
       "      <td>Rob Roy (1995)</td>\n",
       "      <td>Action|Drama|Romance|War</td>\n",
       "    </tr>\n",
       "    <tr>\n",
       "      <th>8</th>\n",
       "      <td>1</td>\n",
       "      <td>253</td>\n",
       "      <td>4.0</td>\n",
       "      <td>2005-04-02 23:35:40</td>\n",
       "      <td>Interview with the Vampire: The Vampire Chroni...</td>\n",
       "      <td>Drama|Horror</td>\n",
       "    </tr>\n",
       "    <tr>\n",
       "      <th>10</th>\n",
       "      <td>1</td>\n",
       "      <td>293</td>\n",
       "      <td>4.0</td>\n",
       "      <td>2005-04-02 23:31:43</td>\n",
       "      <td>Léon: The Professional (a.k.a. The Professiona...</td>\n",
       "      <td>Action|Crime|Drama|Thriller</td>\n",
       "    </tr>\n",
       "    <tr>\n",
       "      <th>11</th>\n",
       "      <td>1</td>\n",
       "      <td>296</td>\n",
       "      <td>4.0</td>\n",
       "      <td>2005-04-02 23:32:47</td>\n",
       "      <td>Pulp Fiction (1994)</td>\n",
       "      <td>Comedy|Crime|Drama|Thriller</td>\n",
       "    </tr>\n",
       "  </tbody>\n",
       "</table>\n",
       "</div>"
      ],
      "text/plain": [
       "    userId  movieId  rating           timestamp  \\\n",
       "1        1       29     3.5 2005-04-02 23:31:16   \n",
       "6        1      151     4.0 2004-09-10 03:08:54   \n",
       "8        1      253     4.0 2005-04-02 23:35:40   \n",
       "10       1      293     4.0 2005-04-02 23:31:43   \n",
       "11       1      296     4.0 2005-04-02 23:32:47   \n",
       "\n",
       "                                                title  \\\n",
       "1   City of Lost Children, The (Cité des enfants p...   \n",
       "6                                      Rob Roy (1995)   \n",
       "8   Interview with the Vampire: The Vampire Chroni...   \n",
       "10  Léon: The Professional (a.k.a. The Professiona...   \n",
       "11                                Pulp Fiction (1994)   \n",
       "\n",
       "                                    genres  \n",
       "1   Adventure|Drama|Fantasy|Mystery|Sci-Fi  \n",
       "6                 Action|Drama|Romance|War  \n",
       "8                             Drama|Horror  \n",
       "10             Action|Crime|Drama|Thriller  \n",
       "11             Comedy|Crime|Drama|Thriller  "
      ]
     },
     "metadata": {},
     "output_type": "display_data"
    },
    {
     "data": {
      "text/plain": [
       "(20000263,)"
      ]
     },
     "execution_count": 10,
     "metadata": {},
     "output_type": "execute_result"
    }
   ],
   "source": [
    "# In the main_df description we can notice that drama is the top genre so we decide to dig a little deeper\n",
    "drama_movies = main_df['genres'].str.contains('Drama')\n",
    "display(main_df[drama_movies].head())\n",
    "drama_movies.shape\n"
   ]
  },
  {
   "cell_type": "code",
   "execution_count": 11,
   "metadata": {},
   "outputs": [
    {
     "data": {
      "text/html": [
       "<div>\n",
       "<style scoped>\n",
       "    .dataframe tbody tr th:only-of-type {\n",
       "        vertical-align: middle;\n",
       "    }\n",
       "\n",
       "    .dataframe tbody tr th {\n",
       "        vertical-align: top;\n",
       "    }\n",
       "\n",
       "    .dataframe thead th {\n",
       "        text-align: right;\n",
       "    }\n",
       "</style>\n",
       "<table border=\"1\" class=\"dataframe\">\n",
       "  <thead>\n",
       "    <tr style=\"text-align: right;\">\n",
       "      <th></th>\n",
       "      <th>userId</th>\n",
       "      <th>movieId</th>\n",
       "      <th>rating</th>\n",
       "      <th>timestamp</th>\n",
       "      <th>title</th>\n",
       "      <th>genres</th>\n",
       "    </tr>\n",
       "  </thead>\n",
       "  <tbody>\n",
       "    <tr>\n",
       "      <th>30</th>\n",
       "      <td>1</td>\n",
       "      <td>1196</td>\n",
       "      <td>4.5</td>\n",
       "      <td>2005-04-02 23:32:22</td>\n",
       "      <td>Star Wars: Episode V - The Empire Strikes Back...</td>\n",
       "      <td>Action|Adventure|Sci-Fi</td>\n",
       "    </tr>\n",
       "    <tr>\n",
       "      <th>31</th>\n",
       "      <td>1</td>\n",
       "      <td>1198</td>\n",
       "      <td>4.5</td>\n",
       "      <td>2005-04-02 23:30:24</td>\n",
       "      <td>Raiders of the Lost Ark (Indiana Jones and the...</td>\n",
       "      <td>Action|Adventure</td>\n",
       "    </tr>\n",
       "    <tr>\n",
       "      <th>131</th>\n",
       "      <td>1</td>\n",
       "      <td>4993</td>\n",
       "      <td>5.0</td>\n",
       "      <td>2005-04-02 23:31:22</td>\n",
       "      <td>Lord of the Rings: The Fellowship of the Ring,...</td>\n",
       "      <td>Adventure|Fantasy</td>\n",
       "    </tr>\n",
       "    <tr>\n",
       "      <th>142</th>\n",
       "      <td>1</td>\n",
       "      <td>5952</td>\n",
       "      <td>5.0</td>\n",
       "      <td>2005-04-02 23:30:19</td>\n",
       "      <td>Lord of the Rings: The Two Towers, The (2002)</td>\n",
       "      <td>Adventure|Fantasy</td>\n",
       "    </tr>\n",
       "    <tr>\n",
       "      <th>158</th>\n",
       "      <td>1</td>\n",
       "      <td>7153</td>\n",
       "      <td>5.0</td>\n",
       "      <td>2005-04-02 23:30:33</td>\n",
       "      <td>Lord of the Rings: The Return of the King, The...</td>\n",
       "      <td>Action|Adventure|Drama|Fantasy</td>\n",
       "    </tr>\n",
       "    <tr>\n",
       "      <th>170</th>\n",
       "      <td>1</td>\n",
       "      <td>8507</td>\n",
       "      <td>5.0</td>\n",
       "      <td>2004-09-10 03:13:47</td>\n",
       "      <td>Freaks (1932)</td>\n",
       "      <td>Crime|Drama|Horror</td>\n",
       "    </tr>\n",
       "    <tr>\n",
       "      <th>171</th>\n",
       "      <td>1</td>\n",
       "      <td>8636</td>\n",
       "      <td>4.5</td>\n",
       "      <td>2005-04-02 23:44:53</td>\n",
       "      <td>Spider-Man 2 (2004)</td>\n",
       "      <td>Action|Adventure|Sci-Fi|IMAX</td>\n",
       "    </tr>\n",
       "    <tr>\n",
       "      <th>176</th>\n",
       "      <td>2</td>\n",
       "      <td>62</td>\n",
       "      <td>5.0</td>\n",
       "      <td>2000-11-21 15:29:58</td>\n",
       "      <td>Mr. Holland's Opus (1995)</td>\n",
       "      <td>Drama</td>\n",
       "    </tr>\n",
       "    <tr>\n",
       "      <th>177</th>\n",
       "      <td>2</td>\n",
       "      <td>70</td>\n",
       "      <td>5.0</td>\n",
       "      <td>2000-11-21 15:31:31</td>\n",
       "      <td>From Dusk Till Dawn (1996)</td>\n",
       "      <td>Action|Comedy|Horror|Thriller</td>\n",
       "    </tr>\n",
       "    <tr>\n",
       "      <th>180</th>\n",
       "      <td>2</td>\n",
       "      <td>260</td>\n",
       "      <td>5.0</td>\n",
       "      <td>2000-11-21 15:36:54</td>\n",
       "      <td>Star Wars: Episode IV - A New Hope (1977)</td>\n",
       "      <td>Action|Adventure|Sci-Fi</td>\n",
       "    </tr>\n",
       "  </tbody>\n",
       "</table>\n",
       "</div>"
      ],
      "text/plain": [
       "     userId  movieId  rating           timestamp  \\\n",
       "30        1     1196     4.5 2005-04-02 23:32:22   \n",
       "31        1     1198     4.5 2005-04-02 23:30:24   \n",
       "131       1     4993     5.0 2005-04-02 23:31:22   \n",
       "142       1     5952     5.0 2005-04-02 23:30:19   \n",
       "158       1     7153     5.0 2005-04-02 23:30:33   \n",
       "170       1     8507     5.0 2004-09-10 03:13:47   \n",
       "171       1     8636     4.5 2005-04-02 23:44:53   \n",
       "176       2       62     5.0 2000-11-21 15:29:58   \n",
       "177       2       70     5.0 2000-11-21 15:31:31   \n",
       "180       2      260     5.0 2000-11-21 15:36:54   \n",
       "\n",
       "                                                 title  \\\n",
       "30   Star Wars: Episode V - The Empire Strikes Back...   \n",
       "31   Raiders of the Lost Ark (Indiana Jones and the...   \n",
       "131  Lord of the Rings: The Fellowship of the Ring,...   \n",
       "142      Lord of the Rings: The Two Towers, The (2002)   \n",
       "158  Lord of the Rings: The Return of the King, The...   \n",
       "170                                      Freaks (1932)   \n",
       "171                                Spider-Man 2 (2004)   \n",
       "176                          Mr. Holland's Opus (1995)   \n",
       "177                         From Dusk Till Dawn (1996)   \n",
       "180          Star Wars: Episode IV - A New Hope (1977)   \n",
       "\n",
       "                             genres  \n",
       "30          Action|Adventure|Sci-Fi  \n",
       "31                 Action|Adventure  \n",
       "131               Adventure|Fantasy  \n",
       "142               Adventure|Fantasy  \n",
       "158  Action|Adventure|Drama|Fantasy  \n",
       "170              Crime|Drama|Horror  \n",
       "171    Action|Adventure|Sci-Fi|IMAX  \n",
       "176                           Drama  \n",
       "177   Action|Comedy|Horror|Thriller  \n",
       "180         Action|Adventure|Sci-Fi  "
      ]
     },
     "execution_count": 11,
     "metadata": {},
     "output_type": "execute_result"
    }
   ],
   "source": [
    "# Show the first 10 high rated movies\n",
    "high_rated = main_df['rating']>4.0\n",
    "main_df[high_rated].head(10)"
   ]
  },
  {
   "cell_type": "code",
   "execution_count": null,
   "metadata": {},
   "outputs": [
    {
     "data": {
      "text/plain": [
       "title\n",
       "Pulp Fiction (1994)                          67310\n",
       "Forrest Gump (1994)                          66172\n",
       "Shawshank Redemption, The (1994)             63366\n",
       "Silence of the Lambs, The (1991)             63299\n",
       "Jurassic Park (1993)                         59715\n",
       "Star Wars: Episode IV - A New Hope (1977)    54502\n",
       "Braveheart (1995)                            53769\n",
       "Terminator 2: Judgment Day (1991)            52244\n",
       "Matrix, The (1999)                           51334\n",
       "Schindler's List (1993)                      50054\n",
       "dtype: int64"
      ]
     },
     "execution_count": 16,
     "metadata": {},
     "output_type": "execute_result"
    }
   ],
   "source": [
    "# show the top 10 most rated movies\n",
    "most_rated = main_df.groupby('title').size().sort_values(ascending=False)[:10]\n",
    "most_rated"
   ]
  },
  {
   "cell_type": "code",
   "execution_count": 18,
   "metadata": {},
   "outputs": [
    {
     "data": {
      "image/png": "[encoded data removed]",
      "text/plain": [
       "<Figure size 1000x600 with 1 Axes>"
      ]
     },
     "metadata": {},
     "output_type": "display_data"
    }
   ],
   "source": [
    "# Split the genres column and count occurrences\n",
    "# Create a flat list of all genres\n",
    "all_genres = main_df['genres'].str.split('|').explode()\n",
    "\n",
    "# Count the occurrences of each genre\n",
    "genre_counts = all_genres.value_counts()\n",
    "\n",
    "# Visualize the counts using a bar chart\n",
    "plt.figure(figsize=(10, 6))\n",
    "genre_counts.plot(kind='bar', color='skyblue')\n",
    "plt.title('Number of Occurrences of Each Genre')\n",
    "plt.xlabel('Genre')\n",
    "plt.ylabel('Count')\n",
    "plt.xticks(rotation=45)\n",
    "plt.show()"
   ]
  },
  {
   "cell_type": "markdown",
   "metadata": {},
   "source": [
    "#### Handling timestamps"
   ]
  },
  {
   "cell_type": "code",
   "execution_count": 5,
   "metadata": {},
   "outputs": [
    {
     "name": "stdout",
     "output_type": "stream",
     "text": [
      "0    2005-04-02 23:53:47\n",
      "1    2005-04-02 23:31:16\n",
      "2    2005-04-02 23:33:39\n",
      "3    2005-04-02 23:32:07\n",
      "4    2005-04-02 23:29:40\n",
      "Name: timestamp, dtype: object\n",
      "<class 'pandas.core.frame.DataFrame'>\n",
      "RangeIndex: 20000263 entries, 0 to 20000262\n",
      "Data columns (total 6 columns):\n",
      " #   Column     Dtype         \n",
      "---  ------     -----         \n",
      " 0   userId     int64         \n",
      " 1   movieId    int64         \n",
      " 2   rating     float64       \n",
      " 3   timestamp  datetime64[ns]\n",
      " 4   title      object        \n",
      " 5   genres     object        \n",
      "dtypes: datetime64[ns](1), float64(1), int64(2), object(2)\n",
      "memory usage: 915.5+ MB\n"
     ]
    },
    {
     "data": {
      "text/plain": [
       "\" \\n# Extract useful time-based features (e.g., year, month)\\ndf['year'] = df['timestamp'].dt.year\\ndf['month'] = df['timestamp'].dt.month\\ndf['day_of_week'] = df['timestamp'].dt.dayofweek\\ndf['day'] = df['timestamp'].dt.day\\ndf['hour'] = df['timestamp'].dt.hour\\ndf['minute'] = df['timestamp'].dt.minute\\ndf['second'] = df['timestamp'].dt.second\\nprint(df.head())\\n\""
      ]
     },
     "execution_count": 5,
     "metadata": {},
     "output_type": "execute_result"
    }
   ],
   "source": [
    "# Handle the timestamp column converting it to datetime\n",
    "main_df['timestamp'] = pd.to_datetime(main_df['timestamp']) \n",
    "print(df_ratings['timestamp'].head())\n",
    "\n",
    "# checking dtype of timestamp column changed\n",
    "main_df.info()\n",
    "\n",
    "# not needed it until now...\n",
    "''' \n",
    "# Extract useful time-based features (e.g., year, month)\n",
    "df['year'] = df['timestamp'].dt.year\n",
    "df['month'] = df['timestamp'].dt.month\n",
    "df['day_of_week'] = df['timestamp'].dt.dayofweek\n",
    "df['day'] = df['timestamp'].dt.day\n",
    "df['hour'] = df['timestamp'].dt.hour\n",
    "df['minute'] = df['timestamp'].dt.minute\n",
    "df['second'] = df['timestamp'].dt.second\n",
    "print(df.head())\n",
    "'''\n"
   ]
  },
  {
   "cell_type": "markdown",
   "metadata": {},
   "source": [
    "### Other dataframes"
   ]
  },
  {
   "cell_type": "markdown",
   "metadata": {},
   "source": [
    "#### Loading"
   ]
  },
  {
   "cell_type": "code",
   "execution_count": 2,
   "metadata": {},
   "outputs": [],
   "source": [
    "# Load the rest of the dfs\n",
    "all_dfs = []\n",
    "df_genome_scores = pd.read_csv(\"archive/genome_scores.csv\")\n",
    "df_genome_tags = pd.read_csv(\"archive/genome_tags.csv\")\n",
    "df_links = pd.read_csv(\"archive/link.csv\")\n",
    "df_tags = pd.read_csv(\"archive/tag.csv\")\n",
    "all_dfs.append((\"genome_scores\", df_genome_scores))\n",
    "all_dfs.append((\"genome_tags\", df_genome_tags))\n",
    "all_dfs.append((\"links\", df_links))\n",
    "all_dfs.append((\"tags\", df_tags))"
   ]
  },
  {
   "cell_type": "markdown",
   "metadata": {},
   "source": [
    "#### Analysis"
   ]
  },
  {
   "cell_type": "code",
   "execution_count": null,
   "metadata": {},
   "outputs": [
    {
     "name": "stdout",
     "output_type": "stream",
     "text": [
      "-------- genome_scores ------------\n",
      "--------- df shape\n",
      "(11709768, 3)\n",
      "--------- df info\n",
      "<class 'pandas.core.frame.DataFrame'>\n",
      "RangeIndex: 11709768 entries, 0 to 11709767\n",
      "Data columns (total 3 columns):\n",
      " #   Column     Dtype  \n",
      "---  ------     -----  \n",
      " 0   movieId    int64  \n",
      " 1   tagId      int64  \n",
      " 2   relevance  float64\n",
      "dtypes: float64(1), int64(2)\n",
      "memory usage: 268.0 MB\n",
      "None\n",
      "--------- df description\n",
      "            movieId         tagId     relevance\n",
      "count  1.170977e+07  1.170977e+07  1.170977e+07\n",
      "mean   2.584297e+04  5.645000e+02  1.164833e-01\n",
      "std    3.467615e+04  3.256254e+02  1.542463e-01\n",
      "min    1.000000e+00  1.000000e+00  2.500000e-04\n",
      "25%    2.926000e+03  2.827500e+02  2.425000e-02\n",
      "50%    6.017000e+03  5.645000e+02  5.650000e-02\n",
      "75%    4.606200e+04  8.462500e+02  1.415000e-01\n",
      "max    1.311700e+05  1.128000e+03  1.000000e+00\n",
      "None\n",
      "--------- df null count\n",
      "movieId      0\n",
      "tagId        0\n",
      "relevance    0\n",
      "dtype: int64\n",
      "--------- df duplicate count\n",
      "0\n",
      "-------- genome_tags ------------\n",
      "--------- df shape\n",
      "(1128, 2)\n",
      "--------- df info\n",
      "<class 'pandas.core.frame.DataFrame'>\n",
      "RangeIndex: 1128 entries, 0 to 1127\n",
      "Data columns (total 2 columns):\n",
      " #   Column  Non-Null Count  Dtype \n",
      "---  ------  --------------  ----- \n",
      " 0   tagId   1128 non-null   int64 \n",
      " 1   tag     1128 non-null   object\n",
      "dtypes: int64(1), object(1)\n",
      "memory usage: 17.8+ KB\n",
      "None\n",
      "--------- df description\n",
      "             tagId\n",
      "count  1128.000000\n",
      "mean    564.500000\n",
      "std     325.769857\n",
      "min       1.000000\n",
      "25%     282.750000\n",
      "50%     564.500000\n",
      "75%     846.250000\n",
      "max    1128.000000\n",
      "         tag\n",
      "count   1128\n",
      "unique  1128\n",
      "top      007\n",
      "freq       1\n",
      "None\n",
      "--------- df null count\n",
      "tagId    0\n",
      "tag      0\n",
      "dtype: int64\n",
      "--------- df duplicate count\n",
      "0\n",
      "-------- links ------------\n",
      "--------- df shape\n",
      "(27278, 3)\n",
      "--------- df info\n",
      "<class 'pandas.core.frame.DataFrame'>\n",
      "RangeIndex: 27278 entries, 0 to 27277\n",
      "Data columns (total 3 columns):\n",
      " #   Column   Non-Null Count  Dtype  \n",
      "---  ------   --------------  -----  \n",
      " 0   movieId  27278 non-null  int64  \n",
      " 1   imdbId   27278 non-null  int64  \n",
      " 2   tmdbId   27026 non-null  float64\n",
      "dtypes: float64(1), int64(2)\n",
      "memory usage: 639.5 KB\n",
      "None\n",
      "--------- df description\n",
      "             movieId        imdbId         tmdbId\n",
      "count   27278.000000  2.727800e+04   27026.000000\n",
      "mean    59855.480570  5.781860e+05   63846.683083\n",
      "std     44429.314697  7.804707e+05   69862.134497\n",
      "min         1.000000  5.000000e+00       2.000000\n",
      "25%      6931.250000  7.741725e+04   15936.500000\n",
      "50%     68068.000000  1.524350e+05   39468.500000\n",
      "75%    100293.250000  9.062715e+05   82504.000000\n",
      "max    131262.000000  4.530184e+06  421510.000000\n",
      "None\n",
      "--------- df null count\n",
      "movieId      0\n",
      "imdbId       0\n",
      "tmdbId     252\n",
      "dtype: int64\n",
      "--------- df duplicate count\n",
      "0\n",
      "-------- tags ------------\n",
      "--------- df shape\n",
      "(465564, 4)\n",
      "--------- df info\n",
      "<class 'pandas.core.frame.DataFrame'>\n",
      "RangeIndex: 465564 entries, 0 to 465563\n",
      "Data columns (total 4 columns):\n",
      " #   Column     Non-Null Count   Dtype \n",
      "---  ------     --------------   ----- \n",
      " 0   userId     465564 non-null  int64 \n",
      " 1   movieId    465564 non-null  int64 \n",
      " 2   tag        465548 non-null  object\n",
      " 3   timestamp  465564 non-null  object\n",
      "dtypes: int64(2), object(2)\n",
      "memory usage: 14.2+ MB\n",
      "None\n",
      "--------- df description\n",
      "              userId        movieId\n",
      "count  465564.000000  465564.000000\n",
      "mean    68712.354263   32627.762920\n",
      "std     41877.674053   36080.241157\n",
      "min        18.000000       1.000000\n",
      "25%     28780.000000    2571.000000\n",
      "50%     70201.000000    7373.000000\n",
      "75%    107322.000000   62235.000000\n",
      "max    138472.000000  131258.000000\n",
      "           tag            timestamp\n",
      "count   465548               465564\n",
      "unique   38643               425373\n",
      "top     sci-fi  2010-08-25 17:56:41\n",
      "freq      3384                   22\n",
      "None\n",
      "--------- df null count\n",
      "userId        0\n",
      "movieId       0\n",
      "tag          16\n",
      "timestamp     0\n",
      "dtype: int64\n",
      "--------- df duplicate count\n",
      "0\n"
     ]
    }
   ],
   "source": [
    "# Analyse the rest of the df information\n",
    "for df_name, dataframe in all_dfs:\n",
    "    print(\"--------\", df_name, \"------------\")\n",
    "    print(\"--------- df shape\")\n",
    "    print(analysis.find_shape(dataframe))\n",
    "    print(\"--------- df info\")\n",
    "    print(analysis.find_info(dataframe))\n",
    "    print(\"--------- df description\")\n",
    "    print(analysis.find_desc(dataframe))\n",
    "    print(\"--------- df null count\")\n",
    "    print(analysis.find_null_vals(dataframe))\n",
    "    print(\"--------- df duplicate count\")\n",
    "    print(analysis.find_dup(dataframe))\n",
    "    "
   ]
  },
  {
   "cell_type": "markdown",
   "metadata": {},
   "source": [
    "We notice that the links and tags df contains null values, so we handle it in this phase "
   ]
  },
  {
   "cell_type": "markdown",
   "metadata": {},
   "source": [
    "#### Cleaning"
   ]
  },
  {
   "cell_type": "code",
   "execution_count": 3,
   "metadata": {},
   "outputs": [
    {
     "data": {
      "text/html": [
       "<div>\n",
       "<style scoped>\n",
       "    .dataframe tbody tr th:only-of-type {\n",
       "        vertical-align: middle;\n",
       "    }\n",
       "\n",
       "    .dataframe tbody tr th {\n",
       "        vertical-align: top;\n",
       "    }\n",
       "\n",
       "    .dataframe thead th {\n",
       "        text-align: right;\n",
       "    }\n",
       "</style>\n",
       "<table border=\"1\" class=\"dataframe\">\n",
       "  <thead>\n",
       "    <tr style=\"text-align: right;\">\n",
       "      <th></th>\n",
       "      <th>movieId</th>\n",
       "      <th>imdbId</th>\n",
       "      <th>tmdbId</th>\n",
       "    </tr>\n",
       "  </thead>\n",
       "  <tbody>\n",
       "    <tr>\n",
       "      <th>0</th>\n",
       "      <td>1</td>\n",
       "      <td>114709</td>\n",
       "      <td>862.0</td>\n",
       "    </tr>\n",
       "    <tr>\n",
       "      <th>1</th>\n",
       "      <td>2</td>\n",
       "      <td>113497</td>\n",
       "      <td>8844.0</td>\n",
       "    </tr>\n",
       "    <tr>\n",
       "      <th>2</th>\n",
       "      <td>3</td>\n",
       "      <td>113228</td>\n",
       "      <td>15602.0</td>\n",
       "    </tr>\n",
       "    <tr>\n",
       "      <th>3</th>\n",
       "      <td>4</td>\n",
       "      <td>114885</td>\n",
       "      <td>31357.0</td>\n",
       "    </tr>\n",
       "    <tr>\n",
       "      <th>4</th>\n",
       "      <td>5</td>\n",
       "      <td>113041</td>\n",
       "      <td>11862.0</td>\n",
       "    </tr>\n",
       "    <tr>\n",
       "      <th>...</th>\n",
       "      <td>...</td>\n",
       "      <td>...</td>\n",
       "      <td>...</td>\n",
       "    </tr>\n",
       "    <tr>\n",
       "      <th>27273</th>\n",
       "      <td>131254</td>\n",
       "      <td>466713</td>\n",
       "      <td>4436.0</td>\n",
       "    </tr>\n",
       "    <tr>\n",
       "      <th>27274</th>\n",
       "      <td>131256</td>\n",
       "      <td>277703</td>\n",
       "      <td>9274.0</td>\n",
       "    </tr>\n",
       "    <tr>\n",
       "      <th>27275</th>\n",
       "      <td>131258</td>\n",
       "      <td>3485166</td>\n",
       "      <td>285213.0</td>\n",
       "    </tr>\n",
       "    <tr>\n",
       "      <th>27276</th>\n",
       "      <td>131260</td>\n",
       "      <td>249110</td>\n",
       "      <td>32099.0</td>\n",
       "    </tr>\n",
       "    <tr>\n",
       "      <th>27277</th>\n",
       "      <td>131262</td>\n",
       "      <td>1724965</td>\n",
       "      <td>286971.0</td>\n",
       "    </tr>\n",
       "  </tbody>\n",
       "</table>\n",
       "<p>27278 rows × 3 columns</p>\n",
       "</div>"
      ],
      "text/plain": [
       "       movieId   imdbId    tmdbId\n",
       "0            1   114709     862.0\n",
       "1            2   113497    8844.0\n",
       "2            3   113228   15602.0\n",
       "3            4   114885   31357.0\n",
       "4            5   113041   11862.0\n",
       "...        ...      ...       ...\n",
       "27273   131254   466713    4436.0\n",
       "27274   131256   277703    9274.0\n",
       "27275   131258  3485166  285213.0\n",
       "27276   131260   249110   32099.0\n",
       "27277   131262  1724965  286971.0\n",
       "\n",
       "[27278 rows x 3 columns]"
      ]
     },
     "execution_count": 3,
     "metadata": {},
     "output_type": "execute_result"
    }
   ],
   "source": [
    "# We fill nan values with empty space in order not to lose any important information\n",
    "df_links.fillna(\" \")"
   ]
  },
  {
   "cell_type": "code",
   "execution_count": 4,
   "metadata": {},
   "outputs": [
    {
     "data": {
      "text/html": [
       "<div>\n",
       "<style scoped>\n",
       "    .dataframe tbody tr th:only-of-type {\n",
       "        vertical-align: middle;\n",
       "    }\n",
       "\n",
       "    .dataframe tbody tr th {\n",
       "        vertical-align: top;\n",
       "    }\n",
       "\n",
       "    .dataframe thead th {\n",
       "        text-align: right;\n",
       "    }\n",
       "</style>\n",
       "<table border=\"1\" class=\"dataframe\">\n",
       "  <thead>\n",
       "    <tr style=\"text-align: right;\">\n",
       "      <th></th>\n",
       "      <th>userId</th>\n",
       "      <th>movieId</th>\n",
       "      <th>tag</th>\n",
       "      <th>timestamp</th>\n",
       "    </tr>\n",
       "  </thead>\n",
       "  <tbody>\n",
       "    <tr>\n",
       "      <th>0</th>\n",
       "      <td>18</td>\n",
       "      <td>4141</td>\n",
       "      <td>Mark Waters</td>\n",
       "      <td>2009-04-24 18:19:40</td>\n",
       "    </tr>\n",
       "    <tr>\n",
       "      <th>1</th>\n",
       "      <td>65</td>\n",
       "      <td>208</td>\n",
       "      <td>dark hero</td>\n",
       "      <td>2013-05-10 01:41:18</td>\n",
       "    </tr>\n",
       "    <tr>\n",
       "      <th>2</th>\n",
       "      <td>65</td>\n",
       "      <td>353</td>\n",
       "      <td>dark hero</td>\n",
       "      <td>2013-05-10 01:41:19</td>\n",
       "    </tr>\n",
       "    <tr>\n",
       "      <th>3</th>\n",
       "      <td>65</td>\n",
       "      <td>521</td>\n",
       "      <td>noir thriller</td>\n",
       "      <td>2013-05-10 01:39:43</td>\n",
       "    </tr>\n",
       "    <tr>\n",
       "      <th>4</th>\n",
       "      <td>65</td>\n",
       "      <td>592</td>\n",
       "      <td>dark hero</td>\n",
       "      <td>2013-05-10 01:41:18</td>\n",
       "    </tr>\n",
       "    <tr>\n",
       "      <th>...</th>\n",
       "      <td>...</td>\n",
       "      <td>...</td>\n",
       "      <td>...</td>\n",
       "      <td>...</td>\n",
       "    </tr>\n",
       "    <tr>\n",
       "      <th>465559</th>\n",
       "      <td>138446</td>\n",
       "      <td>55999</td>\n",
       "      <td>dragged</td>\n",
       "      <td>2013-01-23 23:29:32</td>\n",
       "    </tr>\n",
       "    <tr>\n",
       "      <th>465560</th>\n",
       "      <td>138446</td>\n",
       "      <td>55999</td>\n",
       "      <td>Jason Bateman</td>\n",
       "      <td>2013-01-23 23:29:38</td>\n",
       "    </tr>\n",
       "    <tr>\n",
       "      <th>465561</th>\n",
       "      <td>138446</td>\n",
       "      <td>55999</td>\n",
       "      <td>quirky</td>\n",
       "      <td>2013-01-23 23:29:38</td>\n",
       "    </tr>\n",
       "    <tr>\n",
       "      <th>465562</th>\n",
       "      <td>138446</td>\n",
       "      <td>55999</td>\n",
       "      <td>sad</td>\n",
       "      <td>2013-01-23 23:29:32</td>\n",
       "    </tr>\n",
       "    <tr>\n",
       "      <th>465563</th>\n",
       "      <td>138472</td>\n",
       "      <td>923</td>\n",
       "      <td>rise to power</td>\n",
       "      <td>2007-11-02 21:12:47</td>\n",
       "    </tr>\n",
       "  </tbody>\n",
       "</table>\n",
       "<p>465548 rows × 4 columns</p>\n",
       "</div>"
      ],
      "text/plain": [
       "        userId  movieId            tag            timestamp\n",
       "0           18     4141    Mark Waters  2009-04-24 18:19:40\n",
       "1           65      208      dark hero  2013-05-10 01:41:18\n",
       "2           65      353      dark hero  2013-05-10 01:41:19\n",
       "3           65      521  noir thriller  2013-05-10 01:39:43\n",
       "4           65      592      dark hero  2013-05-10 01:41:18\n",
       "...        ...      ...            ...                  ...\n",
       "465559  138446    55999        dragged  2013-01-23 23:29:32\n",
       "465560  138446    55999  Jason Bateman  2013-01-23 23:29:38\n",
       "465561  138446    55999         quirky  2013-01-23 23:29:38\n",
       "465562  138446    55999            sad  2013-01-23 23:29:32\n",
       "465563  138472      923  rise to power  2007-11-02 21:12:47\n",
       "\n",
       "[465548 rows x 4 columns]"
      ]
     },
     "execution_count": 4,
     "metadata": {},
     "output_type": "execute_result"
    }
   ],
   "source": [
    "# We drop nan values because they are very few and this df only contains information on tags, \n",
    "# and if the tag is not present, the row doesnt make sense\n",
    "df_tags.dropna()"
   ]
  },
  {
   "cell_type": "markdown",
   "metadata": {},
   "source": [
    "**Further analysis of these dfs can be added if needed later on in the project**"
   ]
  },
  {
   "cell_type": "markdown",
   "metadata": {},
   "source": [
    "## 1.2 Minhash Signatures"
   ]
  }
 ],
 "metadata": {
  "kernelspec": {
   "display_name": "base",
   "language": "python",
   "name": "python3"
  },
  "language_info": {
   "codemirror_mode": {
    "name": "ipython",
    "version": 3
   },
   "file_extension": ".py",
   "mimetype": "text/x-python",
   "name": "python",
   "nbconvert_exporter": "python",
   "pygments_lexer": "ipython3",
   "version": "3.12.4"
  }
 },
 "nbformat": 4,
 "nbformat_minor": 2
}
